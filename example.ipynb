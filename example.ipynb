{
 "cells": [
  {
   "cell_type": "markdown",
   "metadata": {},
   "source": [
    "# 輪講の進め方？\n",
    "輪講というよりは勉強会なので、自由にコードやコメントを書いてください。  \n",
    "よくわからないところは、わからないとコメントしておくだけで大丈夫です。  \n",
    "以下は、Effective Python Chapter1 Item9 の例です。"
   ]
  },
  {
   "cell_type": "markdown",
   "metadata": {},
   "source": [
    "## Item 9: Avoid *else* blocks after *for* and *while* loops\n",
    "和訳：for文やwhile文の後にelse節を書くのはやめよう！  \n",
    "\n",
    "そもそも*for*, *while*ブロックの後で*else*が使えることを知りませんでした。  \n",
    "これまでもそしてこれからも、使わない方がよいようです。\n",
    "## 非推奨の例"
   ]
  },
  {
   "cell_type": "code",
   "execution_count": 1,
   "metadata": {},
   "outputs": [
    {
     "name": "stdout",
     "output_type": "stream",
     "text": [
      "100 は見つかりませんでした。\n"
     ]
    }
   ],
   "source": [
    "for i in range(10):\n",
    "    if i == 100:\n",
    "        print(\"100が見つかりました。\")\n",
    "        break\n",
    "else:\n",
    "    print(\"100 は見つかりませんでした。\")"
   ]
  },
  {
   "cell_type": "code",
   "execution_count": 2,
   "metadata": {},
   "outputs": [
    {
     "name": "stdout",
     "output_type": "stream",
     "text": [
      "5が見つかりました。\n"
     ]
    }
   ],
   "source": [
    "for i in range(10):\n",
    "    if i == 5:\n",
    "        print(\"5が見つかりました。\")\n",
    "        break\n",
    "else:\n",
    "    print(\"5 は見つかりませんでした。\")"
   ]
  },
  {
   "cell_type": "markdown",
   "metadata": {},
   "source": [
    "## 代わりに\n",
    "フラグ変数を使おう！"
   ]
  },
  {
   "cell_type": "code",
   "execution_count": 3,
   "metadata": {},
   "outputs": [
    {
     "name": "stdout",
     "output_type": "stream",
     "text": [
      "5が見つかりました。\n"
     ]
    }
   ],
   "source": [
    "exist = False\n",
    "for i in range(10):\n",
    "    if i == 5:\n",
    "        exist = True\n",
    "        break\n",
    "\n",
    "if exist:\n",
    "    print(\"5が見つかりました。\")\n",
    "else:\n",
    "    print(\"5は見つかりませんでした。\")"
   ]
  },
  {
   "cell_type": "markdown",
   "metadata": {},
   "source": [
    "よく使うロジックは、ヘルパ関数として定義しておくとよいとかいてあります。  \n",
    "互いに素かどうかの判定を行う例が、34ページに載っていますが、面倒なので省略します。"
   ]
  },
  {
   "cell_type": "markdown",
   "metadata": {},
   "source": []
  }
 ],
 "metadata": {
  "interpreter": {
   "hash": "02d95d46b7513d147d81236d17a47543de35b4d078605d2c585a84c779a8e8cc"
  },
  "kernelspec": {
   "display_name": "Python 3.8.11 64-bit ('py38': conda)",
   "name": "python3"
  },
  "language_info": {
   "codemirror_mode": {
    "name": "ipython",
    "version": 3
   },
   "file_extension": ".py",
   "mimetype": "text/x-python",
   "name": "python",
   "nbconvert_exporter": "python",
   "pygments_lexer": "ipython3",
   "version": "3.8.11"
  },
  "orig_nbformat": 4
 },
 "nbformat": 4,
 "nbformat_minor": 2
}
