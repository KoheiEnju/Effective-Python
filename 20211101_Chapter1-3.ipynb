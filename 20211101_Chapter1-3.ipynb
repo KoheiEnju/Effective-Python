{
 "cells": [
  {
   "cell_type": "markdown",
   "metadata": {},
   "source": [
    "# Item8. 並行して繰り返し処理を行う場合は **zip** を使おう"
   ]
  },
  {
   "cell_type": "code",
   "execution_count": 1,
   "metadata": {},
   "outputs": [],
   "source": [
    "names = [\"Alice\", \"Bob\", \"Charlie\"]\n",
    "ages = [22, 35, 50]"
   ]
  },
  {
   "cell_type": "markdown",
   "metadata": {},
   "source": [
    "## zipの前に\n",
    "繰り返し処理のPythonicな書き方の紹介です。添え字`[i]`はあまり使いたくないですよね？"
   ]
  },
  {
   "cell_type": "code",
   "execution_count": 2,
   "metadata": {},
   "outputs": [
    {
     "name": "stdout",
     "output_type": "stream",
     "text": [
      "Name: Alice\n",
      "Name: Bob\n",
      "Name: Charlie\n",
      "Name: Alice\n",
      "Name: Bob\n",
      "Name: Charlie\n"
     ]
    }
   ],
   "source": [
    "# 他言語に慣れているとやりがち(エラーはでません！作法の問題です)\n",
    "for i in range(len(names)):\n",
    "    print(f\"Name: {names[i]}\")\n",
    "    \n",
    "# Pythonでの書き方\n",
    "for name in names:\n",
    "    print(f\"Name: {name}\")"
   ]
  },
  {
   "cell_type": "markdown",
   "metadata": {},
   "source": [
    "## 複数の要素を繰り返すときは？\n",
    "組み込みのzip関数を使おう！"
   ]
  },
  {
   "cell_type": "code",
   "execution_count": 3,
   "metadata": {},
   "outputs": [
    {
     "name": "stdout",
     "output_type": "stream",
     "text": [
      "Name: Alice, Age: 22\n",
      "Name: Bob, Age: 35\n",
      "Name: Charlie, Age: 50\n",
      "Name: Alice, Age: 22\n",
      "Name: Bob, Age: 35\n",
      "Name: Charlie, Age: 50\n"
     ]
    }
   ],
   "source": [
    "# よくない例\n",
    "for i in range(len(names)): # len(names) => 3\n",
    "    print(f\"Name: {names[i]}, Age: {ages[i]}\")\n",
    "\n",
    "# zip関数を使ってシンプルに書けます\n",
    "for name, age in zip(names, ages):\n",
    "    print(f\"Name: {name}, Age: {age}\")"
   ]
  },
  {
   "cell_type": "markdown",
   "metadata": {},
   "source": [
    "## 要素数が異なるときはどうなるの？ "
   ]
  },
  {
   "cell_type": "code",
   "execution_count": 4,
   "metadata": {},
   "outputs": [
    {
     "name": "stdout",
     "output_type": "stream",
     "text": [
      "Name: Alice, Age: 22\n",
      "Name: Bob, Age: 35\n",
      "Name: Charlie, Age: 50\n"
     ]
    }
   ],
   "source": [
    "names.append(\"Tamura\")\n",
    "# ages.append(60? 70?) 年齢がわからないので、とりあえず名前だけ追加しておこう。。\n",
    "for name, age in zip(names, ages):\n",
    "    print(f\"Name: {name}, Age: {age}\")"
   ]
  },
  {
   "cell_type": "markdown",
   "metadata": {},
   "source": [
    "## 不足した要素を補いたい！"
   ]
  },
  {
   "cell_type": "code",
   "execution_count": 5,
   "metadata": {},
   "outputs": [
    {
     "name": "stdout",
     "output_type": "stream",
     "text": [
      "Name: Alice, Age: 22\n",
      "Name: Bob, Age: 35\n",
      "Name: Charlie, Age: 50\n",
      "Name: Tamura, Age: None\n"
     ]
    }
   ],
   "source": [
    "from itertools import zip_longest\n",
    "for name, age in zip_longest(names, ages):\n",
    "    print(f\"Name: {name}, Age: {age}\")"
   ]
  },
  {
   "cell_type": "code",
   "execution_count": 6,
   "metadata": {},
   "outputs": [
    {
     "name": "stdout",
     "output_type": "stream",
     "text": [
      "Name: Alice, Age: 22\n",
      "Name: Bob, Age: 35\n",
      "Name: Charlie, Age: 50\n",
      "Name: Tamura, Age: 100\n"
     ]
    }
   ],
   "source": [
    "# 足りない要素のデフォルト値は None になる。変更するには？\n",
    "for name, age in zip_longest(names, ages, fillvalue=100):\n",
    "    print(f\"Name: {name}, Age: {age}\")"
   ]
  },
  {
   "cell_type": "markdown",
   "metadata": {},
   "source": [
    "## 3つ以上の繰り返しはできる？\n",
    "できます"
   ]
  },
  {
   "cell_type": "code",
   "execution_count": 7,
   "metadata": {},
   "outputs": [
    {
     "name": "stdout",
     "output_type": "stream",
     "text": [
      "Name: Alice, Age: 22, Gender: female\n",
      "Name: Bob, Age: 35, Gender: Male\n",
      "Name: Charlie, Age: 50, Gender: Male\n"
     ]
    }
   ],
   "source": [
    "# この場合はzipなので、Tamuraがいなくなります；；\n",
    "genders = [\"female\", \"Male\", \"Male\", \"Male\"]\n",
    "for name, age, gender in zip(names, ages, genders):\n",
    "    print(f\"Name: {name}, Age: {age}, Gender: {gender}\")"
   ]
  },
  {
   "cell_type": "markdown",
   "metadata": {},
   "source": [
    "## Item8. まとめ\n",
    "- 繰り返しを並列して行う際は、zip関数を使おう。添え字はよくない\n",
    "- 繰り返しの回数は、各要素数の最小値になる！\n",
    "- 最大要素数回繰り返すには、itertools.zip_longestを使おう！"
   ]
  },
  {
   "cell_type": "markdown",
   "metadata": {},
   "source": [
    "# Item9. *for*文, *While*文の後に*else*句を置くのはやめよう\n",
    "そもそも*for*, *while*ブロックの後で*else*が使えることを知りませんでした。  \n",
    "これまでもそしてこれからも、使わない方がよいようです。"
   ]
  },
  {
   "cell_type": "code",
   "execution_count": 8,
   "metadata": {},
   "outputs": [
    {
     "name": "stdout",
     "output_type": "stream",
     "text": [
      "Loop 0\n",
      "Loop 1\n",
      "Loop 2\n",
      "Else block!\n"
     ]
    }
   ],
   "source": [
    "# for ブロック内でbreakが発動しなかったとき、elseブロックが発動します！\n",
    "# breakの行をコメントアウトして、確かめてみよう。これはキモすぎる！\n",
    "for i in range(3):\n",
    "    print(f\"Loop {i}\")\n",
    "    # break\n",
    "else:\n",
    "    print(\"Else block!\")"
   ]
  },
  {
   "cell_type": "markdown",
   "metadata": {},
   "source": [
    "## そもそも何のためにこんなものが生まれたのか\n",
    "何かを探す処理を行うときに便利、、らしい\n",
    "\n",
    "例えば、ある数が素数か確かめる例を考える。素数判定は、ある数の約数を**探す**処理である。"
   ]
  },
  {
   "cell_type": "code",
   "execution_count": 9,
   "metadata": {},
   "outputs": [
    {
     "name": "stdout",
     "output_type": "stream",
     "text": [
      "113 is PRIME!\n"
     ]
    }
   ],
   "source": [
    "from math import sqrt\n",
    "n = 113\n",
    "for i in range(2, int(sqrt(n)) + 1):\n",
    "    if n % i == 0:\n",
    "        print(f\"{n} is NOT prime.\")\n",
    "        break\n",
    "else:\n",
    "    print(f\"{n} is PRIME!\")"
   ]
  },
  {
   "cell_type": "markdown",
   "metadata": {},
   "source": [
    "上のコードはわかりにくいですよね、、\n",
    "\n",
    "A. ではどうすればいいのか？  \n",
    "Q. ヘルパー関数を書こう"
   ]
  },
  {
   "cell_type": "code",
   "execution_count": 10,
   "metadata": {},
   "outputs": [],
   "source": [
    "# どちらも結果は同じだけど、前者のほうが好きです。\n",
    "# 関数内では、可能ならばできる限り早くreturnしたほうがいいという言説があります。\n",
    "def isPrime_1(n):\n",
    "    for i in range(2, int(sqrt(n)) + 1):\n",
    "        if n % i == 0:\n",
    "            return False\n",
    "    return True\n",
    "\n",
    "def isPrime_2(n):\n",
    "    primeFalg = True\n",
    "    for i in range(2, int(sqrt(n)) + 1):\n",
    "        if n % i == 0:\n",
    "            primeFalg = False\n",
    "            break\n",
    "    return primeFalg\n",
    "\n",
    "assert isPrime_1(n) == isPrime_2(n)"
   ]
  },
  {
   "cell_type": "code",
   "execution_count": 11,
   "metadata": {},
   "outputs": [
    {
     "name": "stdout",
     "output_type": "stream",
     "text": [
      "113 is PRIME!\n"
     ]
    }
   ],
   "source": [
    "if isPrime_1(n):\n",
    "    print(f\"{n} is PRIME!\")\n",
    "else:\n",
    "    print(f\"{n} is NOT prime.\")"
   ]
  },
  {
   "cell_type": "markdown",
   "metadata": {},
   "source": [
    "## Item9. まとめ\n",
    "- for, while文の後のelse句は絶対にやめよう。\n",
    "- よく使うロジックや、for文などでインデントが深くなるロジックはヘルパー関数にしてしまおう"
   ]
  },
  {
   "cell_type": "markdown",
   "metadata": {},
   "source": [
    "# ※ Python3.8以降\n",
    "# Item10. セイウチ演算子を使おう！ :=\n",
    "そもそもセイウチ演算子ってなに？  \n",
    "=> 変数への代入と、変数の使用を同時に行えるものです。"
   ]
  },
  {
   "cell_type": "code",
   "execution_count": 12,
   "metadata": {},
   "outputs": [
    {
     "name": "stdout",
     "output_type": "stream",
     "text": [
      "n = 10, result=True\n"
     ]
    }
   ],
   "source": [
    "result = (n := 10) > 5\n",
    "print(f\"n = {n}, result={result}\")"
   ]
  },
  {
   "cell_type": "markdown",
   "metadata": {},
   "source": [
    "いつ使うんだ？  \n",
    "=> if文などで、繰り返しを避けたいときに使えます。  \n",
    "今回はif文を伴う内包表記を例に説明するので、少しだけ内包表記の復習"
   ]
  },
  {
   "cell_type": "markdown",
   "metadata": {},
   "source": [
    "## 内包表記ってなに？ \n",
    "新しいリストを生成する際のPythonicな書き方です。[参照](https://note.nkmk.me/python-list-comprehension/)"
   ]
  },
  {
   "cell_type": "code",
   "execution_count": 13,
   "metadata": {},
   "outputs": [
    {
     "name": "stdout",
     "output_type": "stream",
     "text": [
      "[0, 1, 4, 9, 16]\n",
      "[0, 1, 4, 9, 16]\n"
     ]
    }
   ],
   "source": [
    "# 内包表記\n",
    "squares = [i**2 for i in range(5)]\n",
    "print(squares)\n",
    "\n",
    "# イケてない\n",
    "squares = []\n",
    "for i in range(5):\n",
    "    squares.append(i**2)\n",
    "print(squares)"
   ]
  },
  {
   "cell_type": "markdown",
   "metadata": {},
   "source": [
    "## セイウチが活かされる例\n",
    "リストに含まれる文字列の長さをリストに格納したい。  \n",
    "ただし、5文字未満の名前については省略するとする"
   ]
  },
  {
   "cell_type": "code",
   "execution_count": 14,
   "metadata": {},
   "outputs": [
    {
     "data": {
      "text/plain": [
       "[6, 6, 6, 8, 8]"
      ]
     },
     "execution_count": 14,
     "metadata": {},
     "output_type": "execute_result"
    }
   ],
   "source": [
    "names = [\"suzuki\", \"nomura\", \"goto\", \"tamura\", \"ishikawa\", \"abe\", \"horiuchi\", \"enju\"]\n",
    "# セイウチを使わない場合\n",
    "lengths = [len(name) for name in names if len(name) > 4]\n",
    "lengths"
   ]
  },
  {
   "cell_type": "code",
   "execution_count": 15,
   "metadata": {},
   "outputs": [
    {
     "data": {
      "text/plain": [
       "[6, 6, 6, 8, 8]"
      ]
     },
     "execution_count": 15,
     "metadata": {},
     "output_type": "execute_result"
    }
   ],
   "source": [
    "# セイウチを使う場合\n",
    "lengths = [l for name in names if (l := len(name)) > 4]\n",
    "lengths"
   ]
  },
  {
   "cell_type": "markdown",
   "metadata": {},
   "source": [
    "## セイウチ使わないほうが見やすくない？\n",
    "可読性については、確かにこの場合だと微妙です。  \n",
    "ただ、lenの不必要な呼び出しがなくなっている点で、圧倒的に良いコードです。\n",
    "\n",
    "例えばlenではなく、とてつもなく重い関数を作用させる場合を考えます。"
   ]
  },
  {
   "cell_type": "code",
   "execution_count": 16,
   "metadata": {},
   "outputs": [],
   "source": [
    "from time import sleep\n",
    "def something_too_heavy(name):\n",
    "    sleep(1)\n",
    "    return 10"
   ]
  },
  {
   "cell_type": "code",
   "execution_count": 17,
   "metadata": {},
   "outputs": [
    {
     "data": {
      "text/plain": [
       "[10, 10, 10, 10, 10, 10, 10, 10]"
      ]
     },
     "execution_count": 17,
     "metadata": {},
     "output_type": "execute_result"
    }
   ],
   "source": [
    "# セイウチ無し\n",
    "[something_too_heavy(name) for name in names if something_too_heavy(name) > 4]"
   ]
  },
  {
   "cell_type": "code",
   "execution_count": 18,
   "metadata": {},
   "outputs": [
    {
     "data": {
      "text/plain": [
       "[10, 10, 10, 10, 10, 10, 10, 10]"
      ]
     },
     "execution_count": 18,
     "metadata": {},
     "output_type": "execute_result"
    }
   ],
   "source": [
    "# セイウチあり\n",
    "[res for name in names if (res := something_too_heavy(name)) > 4]"
   ]
  },
  {
   "cell_type": "markdown",
   "metadata": {},
   "source": [
    "無駄な処理がなくなり、さらにコードの長さも短くなりました。  \n",
    "※コードの長さに関しては、関数の長さや、セイウチを使う際に定義する変数の長さに依存しますが、、"
   ]
  },
  {
   "cell_type": "markdown",
   "metadata": {},
   "source": [
    "## 落とし穴\n",
    "セイウチ演算子で値を代入した変数を評価する場合は、必ず()でくくりましょう"
   ]
  },
  {
   "cell_type": "code",
   "execution_count": 19,
   "metadata": {},
   "outputs": [
    {
     "name": "stdout",
     "output_type": "stream",
     "text": [
      "文字数は15で、10文字より長いです。\n"
     ]
    }
   ],
   "source": [
    "name = \"effectivepython\"\n",
    "# ただしい挙動\n",
    "if (n := len(name)) > 10:\n",
    "    print(f\"文字数は{n}で、10文字より長いです。\")"
   ]
  },
  {
   "cell_type": "code",
   "execution_count": 20,
   "metadata": {},
   "outputs": [
    {
     "name": "stdout",
     "output_type": "stream",
     "text": [
      "文字数はTrueで、10文字より長いです。\n"
     ]
    }
   ],
   "source": [
    "# やりがちなバグる例\n",
    "if n := len(name) > 10:\n",
    "    print(f\"文字数は{n}で、10文字より長いです。\")"
   ]
  },
  {
   "cell_type": "markdown",
   "metadata": {},
   "source": [
    ":= よりも > のほうが優先度が高いため、len(name) > 10 が先に評価され、nにはTrueが代入されます。  \n",
    "正しい条件分岐にはなりますが、nには意図しない値が代入されるため注意が必要です。"
   ]
  },
  {
   "cell_type": "markdown",
   "metadata": {},
   "source": [
    "## Item10. まとめ\n",
    "- パフォーマンスの観点、見た目の観点から、繰り返しを避けるためにセイウチ演算子を使おう\n",
    "- := の優先度は低いので、カッコでくくってしまおう\n",
    "- Python3.8以降でサポートされています。"
   ]
  }
 ],
 "metadata": {
  "interpreter": {
   "hash": "02d95d46b7513d147d81236d17a47543de35b4d078605d2c585a84c779a8e8cc"
  },
  "kernelspec": {
   "display_name": "Python 3.8.11 64-bit ('py38': conda)",
   "name": "python3"
  },
  "language_info": {
   "codemirror_mode": {
    "name": "ipython",
    "version": 3
   },
   "file_extension": ".py",
   "mimetype": "text/x-python",
   "name": "python",
   "nbconvert_exporter": "python",
   "pygments_lexer": "ipython3",
   "version": "3.8.11"
  },
  "orig_nbformat": 4
 },
 "nbformat": 4,
 "nbformat_minor": 2
}
